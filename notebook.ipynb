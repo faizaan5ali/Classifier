{
 "cells": [
  {
   "cell_type": "code",
   "id": "initial_id",
   "metadata": {
    "collapsed": true
   },
   "source": [
    "import os\n",
    "import math\n",
    "import random\n",
    "import shutil\n",
    "import scipy\n",
    "\n",
    "import numpy as np\n",
    "import pandas as pd\n",
    "import matplotlib.pyplot as plt\n",
    "import seaborn as sn\n",
    "\n",
    "import tensorflow as tf\n",
    "from keras import Model\n",
    "from keras.layers import GlobalAveragePooling2D\n",
    "from tensorflow import keras\n",
    "from tensorflow.keras import layers\n",
    "from tensorflow.keras.applications import VGG16\n",
    "from tensorflow.keras.models import Sequential, load_model\n",
    "from tensorflow.keras.layers import Dense, Flatten, Dropout, Conv2D, MaxPooling2D, BatchNormalization, Input\n",
    "from tensorflow.keras.optimizers import Adam, SGD\n",
    "from tensorflow.keras.callbacks import EarlyStopping, ReduceLROnPlateau, LearningRateScheduler"
   ],
   "outputs": [],
   "execution_count": null
  },
  {
   "metadata": {},
   "cell_type": "code",
   "source": [
    "BASE_DIR = 'data/'\n",
    "OG_DATA_DIR = 'data/64/'\n",
    "subfolders = next(os.walk(OG_DATA_DIR))[1]\n",
    "print(subfolders, )"
   ],
   "id": "894687e39b38a226",
   "outputs": [],
   "execution_count": null
  },
  {
   "metadata": {},
   "cell_type": "code",
   "source": [
    "img_height, img_width = 64, 64\n",
    "batch_size = 128\n",
    "target_size = (64, 64)\n",
    "\n",
    "# Load the training dataset\n",
    "train_ds = tf.keras.preprocessing.image_dataset_from_directory(\n",
    "    \"data/train\",\n",
    "    image_size=(img_height, img_width),\n",
    "    batch_size=batch_size,\n",
    "    color_mode='grayscale'\n",
    ")\n",
    "\n",
    "# Load the testing dataset\n",
    "test_ds = tf.keras.preprocessing.image_dataset_from_directory(\n",
    "    \"data/test\",\n",
    "    image_size=(img_height, img_width),\n",
    "    batch_size=4,\n",
    "    color_mode='grayscale'\n",
    ")"
   ],
   "id": "e5dead7197875dad",
   "outputs": [],
   "execution_count": null
  },
  {
   "metadata": {},
   "cell_type": "code",
   "source": [
    "model = Sequential([ \n",
    "    layers.Rescaling(1./255, input_shape=(64,64,1)), \n",
    "    layers.Conv2D(16, 3, padding='same', activation='relu'), \n",
    "    layers.MaxPooling2D(), \n",
    "    layers.Conv2D(32, 3, padding='same', activation='relu'), \n",
    "    layers.MaxPooling2D(), \n",
    "    layers.Conv2D(64, 3, padding='same', activation='relu'), \n",
    "    layers.MaxPooling2D(), \n",
    "    layers.Flatten(), \n",
    "    layers.Dense(128, activation='relu'), \n",
    "    layers.Dense(200) \n",
    "]) "
   ],
   "id": "525077ff35c40559",
   "outputs": [],
   "execution_count": null
  },
  {
   "metadata": {},
   "cell_type": "code",
   "source": [
    "model.compile(\n",
    "    optimizer=\"adam\",\n",
    "    loss=tf.losses.SparseCategoricalCrossentropy(from_logits = True),\n",
    "    metrics=['accuracy']\n",
    ")"
   ],
   "id": "d3f198269034542a",
   "outputs": [],
   "execution_count": null
  },
  {
   "metadata": {},
   "cell_type": "code",
   "source": [
    "model.fit(\n",
    "    train_ds,\n",
    "    validation_data=test_ds,\n",
    "    epochs = 25,\n",
    "    verbose=1\n",
    ")"
   ],
   "id": "efb28816b7c5fd7b",
   "outputs": [],
   "execution_count": null
  },
  {
   "metadata": {},
   "cell_type": "code",
   "source": [
    "import numpy\n",
    "\n",
    "plt.figure(figsize=(10,10))\n",
    "for images, labels in test_ds.take(1):\n",
    "  classifications = model(images)\n",
    "  # print(classifications)\n",
    "  \n",
    "  for i in range(4):\n",
    "    ax = plt.subplot(3, 3, i + 1)\n",
    "    plt.imshow(images[i].numpy().astype(\"uint8\"))\n",
    "    index = numpy.argmax(classifications[i])\n",
    "    plt.title(\"Pred: \" + subfolders[index] + \" | Real: \" + subfolders[labels[i]])"
   ],
   "id": "20b91ead93d8052c",
   "outputs": [],
   "execution_count": null
  },
  {
   "metadata": {},
   "cell_type": "code",
   "source": [
    "converter = tf.lite.TFLiteConverter.from_keras_model(model)\n",
    "tflite_model = converter.convert()\n",
    "\n",
    "with open(\"model_128.tflite\", 'wb') as f:\n",
    "  f.write(tflite_model)"
   ],
   "id": "2d76ca8d4d7c1b84",
   "outputs": [],
   "execution_count": null
  },
  {
   "metadata": {},
   "cell_type": "code",
   "source": "model.evaluate(test_ds)",
   "id": "62a1cfa82999eb98",
   "outputs": [],
   "execution_count": null
  },
  {
   "metadata": {},
   "cell_type": "code",
   "source": [
    "from keras.utils import load_img, img_to_array\n",
    "\n",
    "target_size = (64, 64)\n",
    "\n",
    "# Load and preprocess the image\n",
    "image_path = 'data/test/2654/8.jpg'\n",
    "image = load_img(image_path, target_size=target_size, color_mode=\"grayscale\")\n",
    "# image.save('data/test_3002 (2).jpeg')\n",
    "\n",
    "# image = Image.open('data/test_3002.jpeg').convert('L')\n",
    "image_array = img_to_array(image)\n",
    "image_array = image_array / 255.0  # Normalize pixel values\n",
    "plt.imshow(image_array)\n",
    "# Add an extra dimension to the image array to match the input shape expected by the model\n",
    "image_array = np.expand_dims(image_array, axis=0)\n",
    "print(image_array.shape)\n",
    "\n",
    "# Perform inference\n",
    "predictions = model.predict(image_array)\n",
    "\n",
    "# Get top 3 predicted classes and their probabilities\n",
    "top_classes_idx = np.argsort(predictions[0])[-3:][::-1]  # Indices of top 3 classes\n",
    "top_classes_prob = predictions[0][top_classes_idx]  # Probabilities of top 3 classes\n",
    "top_classes_labels = [subfolders[i] for i in top_classes_idx]  # Labels of top 3 classes\n",
    "\n",
    "# Show the top 3 predicted classes and their probabilities\n",
    "for label, prob in zip(top_classes_labels, top_classes_prob):\n",
    "    print(f\"Class: {label}, Probability: {prob:.4f}\")"
   ],
   "id": "cc5844bbe5d51d64",
   "outputs": [],
   "execution_count": null
  }
 ],
 "metadata": {
  "kernelspec": {
   "display_name": "Python 3",
   "language": "python",
   "name": "python3"
  },
  "language_info": {
   "codemirror_mode": {
    "name": "ipython",
    "version": 2
   },
   "file_extension": ".py",
   "mimetype": "text/x-python",
   "name": "python",
   "nbconvert_exporter": "python",
   "pygments_lexer": "ipython2",
   "version": "2.7.6"
  }
 },
 "nbformat": 4,
 "nbformat_minor": 5
}
